{
  "cells": [
    {
      "cell_type": "code",
      "execution_count": null,
      "metadata": {
        "id": "mK4becb_rKUX"
      },
      "outputs": [],
      "source": [
        "#transfer from API to mysql\n",
        "import requests\n",
        "import mysql.connector\n",
        "\n"
      ]
    },
    {
      "cell_type": "code",
      "execution_count": null,
      "metadata": {
        "id": "7ZFkKZcar8_W"
      },
      "outputs": [],
      "source": [
        "# API endpoint and authentication (if needed)\n",
        "api_url = 'LINK API'\n",
        "# headers = {'Authorization': 'Bearer YOUR_API_KEY'}  # Modify as needed\n",
        "\n",
        "# Make the API request\n",
        "response = requests.get(api_url)\n",
        "\n",
        "# Check if the request was successful (status code 200)\n",
        "if response.status_code == 200:\n",
        "    data = response.json()  # Assuming the API response is in JSON format\n",
        "else:\n",
        "    print(f\"API request failed with status code {response.status_code}\")\n",
        "    data = []\n",
        "\n"
      ]
    },
    {
      "cell_type": "code",
      "execution_count": null,
      "metadata": {
        "colab": {
          "base_uri": "https://localhost:8080/",
          "height": 442
        },
        "id": "ldJfLGXksAR3",
        "outputId": "ac43c550-b612-4e9a-adf8-88d277b3ed0c"
      },
      "outputs": [],
      "source": [
        "# Connect to the MySQL database\n",
        "db = mysql.connector.connect(\n",
        "    host=\"127.0.0.1\",\n",
        "    user=\"root\",\n",
        "    password=\"\",\n",
        "    database=\"db_ade\"\n",
        ")\n",
        "cursor = db.cursor()\n",
        "temp = list(data.values())\n",
        "temp_data = temp[0]\n"
      ]
    },
    {
      "cell_type": "code",
      "execution_count": null,
      "metadata": {
        "colab": {
          "base_uri": "https://localhost:8080/"
        },
        "id": "x_MEyncPtvFg",
        "outputId": "96e0b2a0-9035-4b24-b821-c57c21fe603a"
      },
      "outputs": [],
      "source": [
        "int(temp_data[0]['nip'])"
      ]
    },
    {
      "cell_type": "code",
      "execution_count": null,
      "metadata": {},
      "outputs": [],
      "source": [
        "# Insert data into MySQL\n",
        "for item in temp_data:\n",
        "    # Assuming 'table_name' is the name of your MySQL table\n",
        "    values = (int(item['jenis_kelamin']), int(item['golongan']), int(item['pendidikan']), int(item['unit_organisasi']), int(item['agama']), int(item['status_kepegawaian']), item['nama'], item['nip'])  # Modify to match your data structure\n",
        "    insert_query = \"INSERT INTO pegawai (id_jk, id_golongan, id_pendidikan, id_unor, id_agama, id_status_pegawai, nama, nip) VALUES (%s, %s, %s, %s, %s, %s, %s, %s)\" \n",
        "    cursor.execute(insert_query, values)"
      ]
    },
    {
      "cell_type": "code",
      "execution_count": null,
      "metadata": {
        "id": "KT5gM8l3sCz2"
      },
      "outputs": [],
      "source": [
        "\n",
        "# Commit the changes and close the database connection\n",
        "db.commit()\n",
        "db.close()"
      ]
    }
  ],
  "metadata": {
    "colab": {
      "provenance": []
    },
    "kernelspec": {
      "display_name": "Python 3",
      "name": "python3"
    },
    "language_info": {
      "codemirror_mode": {
        "name": "ipython",
        "version": 3
      },
      "file_extension": ".py",
      "mimetype": "text/x-python",
      "name": "python",
      "nbconvert_exporter": "python",
      "pygments_lexer": "ipython3",
      "version": "3.10.9"
    }
  },
  "nbformat": 4,
  "nbformat_minor": 0
}
